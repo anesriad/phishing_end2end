{
 "cells": [
  {
   "cell_type": "code",
   "execution_count": 1,
   "id": "229df387",
   "metadata": {},
   "outputs": [],
   "source": [
    "import pandas as pd"
   ]
  },
  {
   "cell_type": "code",
   "execution_count": 2,
   "id": "4aa78108",
   "metadata": {},
   "outputs": [],
   "source": [
    "df_emails = pd.read_csv('Phishing_Email.csv')"
   ]
  },
  {
   "cell_type": "code",
   "execution_count": 3,
   "id": "53aa607c",
   "metadata": {},
   "outputs": [],
   "source": [
    "pd.set_option('display.max_columns', None)  # Show all columns\n",
    "pd.set_option('display.max_rows', None)  # Show all rows"
   ]
  },
  {
   "cell_type": "code",
   "execution_count": 4,
   "id": "0bbb2482",
   "metadata": {},
   "outputs": [
    {
     "name": "stdout",
     "output_type": "stream",
     "text": [
      "(18650, 3)\n"
     ]
    },
    {
     "data": {
      "text/html": [
       "<div>\n",
       "<style scoped>\n",
       "    .dataframe tbody tr th:only-of-type {\n",
       "        vertical-align: middle;\n",
       "    }\n",
       "\n",
       "    .dataframe tbody tr th {\n",
       "        vertical-align: top;\n",
       "    }\n",
       "\n",
       "    .dataframe thead th {\n",
       "        text-align: right;\n",
       "    }\n",
       "</style>\n",
       "<table border=\"1\" class=\"dataframe\">\n",
       "  <thead>\n",
       "    <tr style=\"text-align: right;\">\n",
       "      <th></th>\n",
       "      <th>Unnamed: 0</th>\n",
       "      <th>Email Text</th>\n",
       "      <th>Email Type</th>\n",
       "    </tr>\n",
       "  </thead>\n",
       "  <tbody>\n",
       "    <tr>\n",
       "      <th>0</th>\n",
       "      <td>0</td>\n",
       "      <td>re : 6 . 1100 , disc : uniformitarianism , re ...</td>\n",
       "      <td>Safe Email</td>\n",
       "    </tr>\n",
       "    <tr>\n",
       "      <th>1</th>\n",
       "      <td>1</td>\n",
       "      <td>the other side of * galicismos * * galicismo *...</td>\n",
       "      <td>Safe Email</td>\n",
       "    </tr>\n",
       "    <tr>\n",
       "      <th>2</th>\n",
       "      <td>2</td>\n",
       "      <td>re : equistar deal tickets are you still avail...</td>\n",
       "      <td>Safe Email</td>\n",
       "    </tr>\n",
       "    <tr>\n",
       "      <th>3</th>\n",
       "      <td>3</td>\n",
       "      <td>\\nHello I am your hot lil horny toy.\\n    I am...</td>\n",
       "      <td>Phishing Email</td>\n",
       "    </tr>\n",
       "    <tr>\n",
       "      <th>4</th>\n",
       "      <td>4</td>\n",
       "      <td>software at incredibly low prices ( 86 % lower...</td>\n",
       "      <td>Phishing Email</td>\n",
       "    </tr>\n",
       "    <tr>\n",
       "      <th>5</th>\n",
       "      <td>5</td>\n",
       "      <td>global risk management operations sally congra...</td>\n",
       "      <td>Safe Email</td>\n",
       "    </tr>\n",
       "    <tr>\n",
       "      <th>6</th>\n",
       "      <td>6</td>\n",
       "      <td>On Sun, Aug 11, 2002 at 11:17:47AM +0100, wint...</td>\n",
       "      <td>Safe Email</td>\n",
       "    </tr>\n",
       "    <tr>\n",
       "      <th>7</th>\n",
       "      <td>7</td>\n",
       "      <td>entourage , stockmogul newsletter ralph velez ...</td>\n",
       "      <td>Phishing Email</td>\n",
       "    </tr>\n",
       "    <tr>\n",
       "      <th>8</th>\n",
       "      <td>8</td>\n",
       "      <td>we owe you lots of money dear applicant , afte...</td>\n",
       "      <td>Phishing Email</td>\n",
       "    </tr>\n",
       "    <tr>\n",
       "      <th>9</th>\n",
       "      <td>9</td>\n",
       "      <td>re : coastal deal - with exxon participation u...</td>\n",
       "      <td>Safe Email</td>\n",
       "    </tr>\n",
       "  </tbody>\n",
       "</table>\n",
       "</div>"
      ],
      "text/plain": [
       "   Unnamed: 0                                         Email Text  \\\n",
       "0           0  re : 6 . 1100 , disc : uniformitarianism , re ...   \n",
       "1           1  the other side of * galicismos * * galicismo *...   \n",
       "2           2  re : equistar deal tickets are you still avail...   \n",
       "3           3  \\nHello I am your hot lil horny toy.\\n    I am...   \n",
       "4           4  software at incredibly low prices ( 86 % lower...   \n",
       "5           5  global risk management operations sally congra...   \n",
       "6           6  On Sun, Aug 11, 2002 at 11:17:47AM +0100, wint...   \n",
       "7           7  entourage , stockmogul newsletter ralph velez ...   \n",
       "8           8  we owe you lots of money dear applicant , afte...   \n",
       "9           9  re : coastal deal - with exxon participation u...   \n",
       "\n",
       "       Email Type  \n",
       "0      Safe Email  \n",
       "1      Safe Email  \n",
       "2      Safe Email  \n",
       "3  Phishing Email  \n",
       "4  Phishing Email  \n",
       "5      Safe Email  \n",
       "6      Safe Email  \n",
       "7  Phishing Email  \n",
       "8  Phishing Email  \n",
       "9      Safe Email  "
      ]
     },
     "execution_count": 4,
     "metadata": {},
     "output_type": "execute_result"
    }
   ],
   "source": [
    "print(df_emails.shape)\n",
    "df_emails.head(10)"
   ]
  },
  {
   "cell_type": "code",
   "execution_count": 5,
   "id": "3d2453dd",
   "metadata": {},
   "outputs": [
    {
     "data": {
      "text/plain": [
       "Email Type\n",
       "Safe Email        11322\n",
       "Phishing Email     7328\n",
       "Name: count, dtype: int64"
      ]
     },
     "execution_count": 5,
     "metadata": {},
     "output_type": "execute_result"
    }
   ],
   "source": [
    "df_emails['Email Type'].value_counts()"
   ]
  },
  {
   "cell_type": "code",
   "execution_count": 8,
   "id": "581a4421",
   "metadata": {},
   "outputs": [
    {
     "data": {
      "text/plain": [
       "16"
      ]
     },
     "execution_count": 8,
     "metadata": {},
     "output_type": "execute_result"
    }
   ],
   "source": [
    "df_emails['Email Text'].isna().sum()"
   ]
  },
  {
   "cell_type": "markdown",
   "id": "ac21425f",
   "metadata": {},
   "source": [
    "# Data cleaning"
   ]
  },
  {
   "cell_type": "code",
   "execution_count": 9,
   "id": "e970a592",
   "metadata": {},
   "outputs": [
    {
     "data": {
      "text/plain": [
       "((18634, 2),\n",
       " label\n",
       " Safe Email        11322\n",
       " Phishing Email     7312\n",
       " Name: count, dtype: int64)"
      ]
     },
     "execution_count": 9,
     "metadata": {},
     "output_type": "execute_result"
    }
   ],
   "source": [
    "# Drop the index column\n",
    "df_emails = df_emails.drop(columns=['Unnamed: 0'])\n",
    "\n",
    "# Drop rows with missing 'Email Text'\n",
    "df_emails = df_emails.dropna(subset=['Email Text'])\n",
    "\n",
    "# Standardize column names\n",
    "df_emails.columns = ['text', 'label']\n",
    "\n",
    "# Check updated shape and label distribution\n",
    "df_emails.shape, df_emails['label'].value_counts()"
   ]
  },
  {
   "cell_type": "code",
   "execution_count": 11,
   "id": "a01754cb",
   "metadata": {},
   "outputs": [
    {
     "data": {
      "text/html": [
       "<div>\n",
       "<style scoped>\n",
       "    .dataframe tbody tr th:only-of-type {\n",
       "        vertical-align: middle;\n",
       "    }\n",
       "\n",
       "    .dataframe tbody tr th {\n",
       "        vertical-align: top;\n",
       "    }\n",
       "\n",
       "    .dataframe thead th {\n",
       "        text-align: right;\n",
       "    }\n",
       "</style>\n",
       "<table border=\"1\" class=\"dataframe\">\n",
       "  <thead>\n",
       "    <tr style=\"text-align: right;\">\n",
       "      <th></th>\n",
       "      <th>text</th>\n",
       "      <th>label</th>\n",
       "    </tr>\n",
       "  </thead>\n",
       "  <tbody>\n",
       "    <tr>\n",
       "      <th>0</th>\n",
       "      <td>re : 6 . 1100 , disc : uniformitarianism , re ...</td>\n",
       "      <td>Safe Email</td>\n",
       "    </tr>\n",
       "    <tr>\n",
       "      <th>1</th>\n",
       "      <td>the other side of * galicismos * * galicismo *...</td>\n",
       "      <td>Safe Email</td>\n",
       "    </tr>\n",
       "    <tr>\n",
       "      <th>2</th>\n",
       "      <td>re : equistar deal tickets are you still avail...</td>\n",
       "      <td>Safe Email</td>\n",
       "    </tr>\n",
       "  </tbody>\n",
       "</table>\n",
       "</div>"
      ],
      "text/plain": [
       "                                                text       label\n",
       "0  re : 6 . 1100 , disc : uniformitarianism , re ...  Safe Email\n",
       "1  the other side of * galicismos * * galicismo *...  Safe Email\n",
       "2  re : equistar deal tickets are you still avail...  Safe Email"
      ]
     },
     "execution_count": 11,
     "metadata": {},
     "output_type": "execute_result"
    }
   ],
   "source": [
    "df_emails.head(3)\n"
   ]
  },
  {
   "cell_type": "markdown",
   "id": "a5e5ad1d",
   "metadata": {},
   "source": [
    "# EDA"
   ]
  },
  {
   "cell_type": "code",
   "execution_count": 14,
   "id": "087c8614",
   "metadata": {},
   "outputs": [
    {
     "name": "stdout",
     "output_type": "stream",
     "text": [
      "label\n",
      "Phishing Email    301.85\n",
      "Safe Email        685.87\n",
      "Name: word_count, dtype: float64\n"
     ]
    }
   ],
   "source": [
    "# Add word count column\n",
    "df_emails['word_count'] = df_emails['text'].apply(lambda x: len(x.split()))\n",
    "\n",
    "# Average word count\n",
    "print(df_emails.groupby('label')['word_count'].mean().round(2))\n"
   ]
  },
  {
   "cell_type": "markdown",
   "id": "fe3d519f",
   "metadata": {},
   "source": [
    "- Safe Emails tend to be twice as long as Phishing."
   ]
  },
  {
   "cell_type": "code",
   "execution_count": 15,
   "id": "3fc7606e",
   "metadata": {},
   "outputs": [
    {
     "name": "stderr",
     "output_type": "stream",
     "text": [
      "[nltk_data] Downloading package stopwords to\n",
      "[nltk_data]     /Users/riadanas/nltk_data...\n",
      "[nltk_data]   Unzipping corpora/stopwords.zip.\n"
     ]
    },
    {
     "name": "stdout",
     "output_type": "stream",
     "text": [
      "Phishing Common Words:\n",
      " [('email', 6618), ('free', 4329), ('com', 3976), ('get', 3871), ('company', 3863), ('information', 3846), ('please', 3827), ('money', 3794), ('business', 3575), ('one', 3572), ('us', 3544), ('time', 3194), ('e', 3154), ('report', 3122), ('http', 3120), ('new', 3032), ('click', 2938), ('make', 2739), ('order', 2687), ('mail', 2588)]\n",
      "\n",
      "Safe Email Common Words:\n",
      " [('enron', 19271), ('university', 17181), ('language', 16843), ('one', 11386), ('subject', 11042), ('ect', 11005), ('would', 10834), ('information', 10817), ('email', 10671), ('new', 10338), ('please', 9925), ('linguistics', 8908), ('e', 8708), ('also', 8440), ('conference', 8019), ('may', 7704), ('de', 7468), ('com', 7063), ('papers', 6891), ('like', 6878)]\n"
     ]
    }
   ],
   "source": [
    "from collections import Counter\n",
    "import re\n",
    "import nltk\n",
    "from nltk.corpus import stopwords\n",
    "\n",
    "# Run this once to download stopwords\n",
    "nltk.download('stopwords')\n",
    "\n",
    "stop_words = set(stopwords.words('english'))\n",
    "\n",
    "# Tokenization function\n",
    "def tokenize_text(text):\n",
    "    text = re.sub(r'[^a-zA-Z\\s]', '', text.lower())  # Lowercase, remove punctuation\n",
    "    words = text.split()\n",
    "    return [word for word in words if word not in stop_words]\n",
    "\n",
    "# Apply to both phishing and safe emails\n",
    "phishing_words = df_emails[df_emails['label'] == 'Phishing Email']['text'].apply(tokenize_text)\n",
    "safe_words = df_emails[df_emails['label'] == 'Safe Email']['text'].apply(tokenize_text)\n",
    "\n",
    "# Flatten lists\n",
    "phishing_flat = [word for sublist in phishing_words for word in sublist]\n",
    "safe_flat = [word for sublist in safe_words for word in sublist]\n",
    "\n",
    "# Get most common 20 words\n",
    "phishing_common = Counter(phishing_flat).most_common(20)\n",
    "safe_common = Counter(safe_flat).most_common(20)\n",
    "\n",
    "print(\"Phishing Common Words:\\n\", phishing_common)\n",
    "print(\"\\nSafe Email Common Words:\\n\", safe_common)\n"
   ]
  },
  {
   "cell_type": "markdown",
   "id": "145f4248",
   "metadata": {},
   "source": [
    "- We can spot here a few interesting keywords for Phishing:\n",
    "- free, money, click, order"
   ]
  },
  {
   "cell_type": "markdown",
   "id": "da573b16",
   "metadata": {},
   "source": [
    "# Text processing"
   ]
  },
  {
   "cell_type": "code",
   "execution_count": 16,
   "id": "31a27dd5",
   "metadata": {},
   "outputs": [
    {
     "name": "stdout",
     "output_type": "stream",
     "text": [
      "(14907, 3000) (3727, 3000)\n"
     ]
    }
   ],
   "source": [
    "def clean_text(text):\n",
    "    text = re.sub(r'[^a-zA-Z\\s]', '', text.lower())\n",
    "    return ' '.join([word for word in text.split() if word not in stop_words])\n",
    "\n",
    "df_emails['clean_text'] = df_emails['text'].apply(clean_text)\n",
    "\n",
    "from sklearn.feature_extraction.text import TfidfVectorizer\n",
    "from sklearn.model_selection import train_test_split\n",
    "\n",
    "vectorizer = TfidfVectorizer(max_features=3000)\n",
    "X = vectorizer.fit_transform(df_emails['clean_text'])\n",
    "\n",
    "y = df_emails['label'].apply(lambda x: 1 if x == 'Phishing Email' else 0)\n",
    "\n",
    "X_train, X_test, y_train, y_test = train_test_split(X, y, test_size=0.2, random_state=42)\n",
    "\n",
    "print(X_train.shape, X_test.shape)\n"
   ]
  },
  {
   "cell_type": "code",
   "execution_count": 17,
   "id": "a23248ad",
   "metadata": {},
   "outputs": [
    {
     "data": {
      "text/html": [
       "<div>\n",
       "<style scoped>\n",
       "    .dataframe tbody tr th:only-of-type {\n",
       "        vertical-align: middle;\n",
       "    }\n",
       "\n",
       "    .dataframe tbody tr th {\n",
       "        vertical-align: top;\n",
       "    }\n",
       "\n",
       "    .dataframe thead th {\n",
       "        text-align: right;\n",
       "    }\n",
       "</style>\n",
       "<table border=\"1\" class=\"dataframe\">\n",
       "  <thead>\n",
       "    <tr style=\"text-align: right;\">\n",
       "      <th></th>\n",
       "      <th>text</th>\n",
       "      <th>label</th>\n",
       "      <th>word_count</th>\n",
       "      <th>clean_text</th>\n",
       "    </tr>\n",
       "  </thead>\n",
       "  <tbody>\n",
       "    <tr>\n",
       "      <th>0</th>\n",
       "      <td>re : 6 . 1100 , disc : uniformitarianism , re ...</td>\n",
       "      <td>Safe Email</td>\n",
       "      <td>230</td>\n",
       "      <td>disc uniformitarianism sex lang dick hudson ob...</td>\n",
       "    </tr>\n",
       "    <tr>\n",
       "      <th>1</th>\n",
       "      <td>the other side of * galicismos * * galicismo *...</td>\n",
       "      <td>Safe Email</td>\n",
       "      <td>91</td>\n",
       "      <td>side galicismos galicismo spanish term names i...</td>\n",
       "    </tr>\n",
       "    <tr>\n",
       "      <th>2</th>\n",
       "      <td>re : equistar deal tickets are you still avail...</td>\n",
       "      <td>Safe Email</td>\n",
       "      <td>305</td>\n",
       "      <td>equistar deal tickets still available assist r...</td>\n",
       "    </tr>\n",
       "    <tr>\n",
       "      <th>3</th>\n",
       "      <td>\\nHello I am your hot lil horny toy.\\n    I am...</td>\n",
       "      <td>Phishing Email</td>\n",
       "      <td>96</td>\n",
       "      <td>hello hot lil horny toy one dream open minded ...</td>\n",
       "    </tr>\n",
       "    <tr>\n",
       "      <th>4</th>\n",
       "      <td>software at incredibly low prices ( 86 % lower...</td>\n",
       "      <td>Phishing Email</td>\n",
       "      <td>91</td>\n",
       "      <td>software incredibly low prices lower drapery s...</td>\n",
       "    </tr>\n",
       "    <tr>\n",
       "      <th>5</th>\n",
       "      <td>global risk management operations sally congra...</td>\n",
       "      <td>Safe Email</td>\n",
       "      <td>592</td>\n",
       "      <td>global risk management operations sally congra...</td>\n",
       "    </tr>\n",
       "    <tr>\n",
       "      <th>6</th>\n",
       "      <td>On Sun, Aug 11, 2002 at 11:17:47AM +0100, wint...</td>\n",
       "      <td>Safe Email</td>\n",
       "      <td>153</td>\n",
       "      <td>sun aug wintermute mentioned impression get re...</td>\n",
       "    </tr>\n",
       "    <tr>\n",
       "      <th>7</th>\n",
       "      <td>entourage , stockmogul newsletter ralph velez ...</td>\n",
       "      <td>Phishing Email</td>\n",
       "      <td>1384</td>\n",
       "      <td>entourage stockmogul newsletter ralph velez ge...</td>\n",
       "    </tr>\n",
       "    <tr>\n",
       "      <th>8</th>\n",
       "      <td>we owe you lots of money dear applicant , afte...</td>\n",
       "      <td>Phishing Email</td>\n",
       "      <td>142</td>\n",
       "      <td>owe lots money dear applicant review upon rece...</td>\n",
       "    </tr>\n",
       "    <tr>\n",
       "      <th>9</th>\n",
       "      <td>re : coastal deal - with exxon participation u...</td>\n",
       "      <td>Safe Email</td>\n",
       "      <td>359</td>\n",
       "      <td>coastal deal exxon participation project agree...</td>\n",
       "    </tr>\n",
       "  </tbody>\n",
       "</table>\n",
       "</div>"
      ],
      "text/plain": [
       "                                                text           label  \\\n",
       "0  re : 6 . 1100 , disc : uniformitarianism , re ...      Safe Email   \n",
       "1  the other side of * galicismos * * galicismo *...      Safe Email   \n",
       "2  re : equistar deal tickets are you still avail...      Safe Email   \n",
       "3  \\nHello I am your hot lil horny toy.\\n    I am...  Phishing Email   \n",
       "4  software at incredibly low prices ( 86 % lower...  Phishing Email   \n",
       "5  global risk management operations sally congra...      Safe Email   \n",
       "6  On Sun, Aug 11, 2002 at 11:17:47AM +0100, wint...      Safe Email   \n",
       "7  entourage , stockmogul newsletter ralph velez ...  Phishing Email   \n",
       "8  we owe you lots of money dear applicant , afte...  Phishing Email   \n",
       "9  re : coastal deal - with exxon participation u...      Safe Email   \n",
       "\n",
       "   word_count                                         clean_text  \n",
       "0         230  disc uniformitarianism sex lang dick hudson ob...  \n",
       "1          91  side galicismos galicismo spanish term names i...  \n",
       "2         305  equistar deal tickets still available assist r...  \n",
       "3          96  hello hot lil horny toy one dream open minded ...  \n",
       "4          91  software incredibly low prices lower drapery s...  \n",
       "5         592  global risk management operations sally congra...  \n",
       "6         153  sun aug wintermute mentioned impression get re...  \n",
       "7        1384  entourage stockmogul newsletter ralph velez ge...  \n",
       "8         142  owe lots money dear applicant review upon rece...  \n",
       "9         359  coastal deal exxon participation project agree...  "
      ]
     },
     "execution_count": 17,
     "metadata": {},
     "output_type": "execute_result"
    }
   ],
   "source": [
    "df_emails.head(10)"
   ]
  },
  {
   "cell_type": "markdown",
   "id": "2dc6fa99",
   "metadata": {},
   "source": [
    "# Modeling and Eval"
   ]
  },
  {
   "cell_type": "code",
   "execution_count": 18,
   "id": "65c81904",
   "metadata": {},
   "outputs": [
    {
     "name": "stdout",
     "output_type": "stream",
     "text": [
      "Confusion Matrix:\n",
      " [[2121   88]\n",
      " [  57 1461]]\n",
      "\n",
      "Classification Report:\n",
      "               precision    recall  f1-score   support\n",
      "\n",
      "        Safe       0.97      0.96      0.97      2209\n",
      "    Phishing       0.94      0.96      0.95      1518\n",
      "\n",
      "    accuracy                           0.96      3727\n",
      "   macro avg       0.96      0.96      0.96      3727\n",
      "weighted avg       0.96      0.96      0.96      3727\n",
      "\n"
     ]
    }
   ],
   "source": [
    "from sklearn.linear_model import LogisticRegression\n",
    "from sklearn.metrics import confusion_matrix, classification_report\n",
    "\n",
    "# Model Training\n",
    "model = LogisticRegression(max_iter=1000)\n",
    "model.fit(X_train, y_train)\n",
    "y_pred = model.predict(X_test)\n",
    "\n",
    "# Evaluation\n",
    "print(\"Confusion Matrix:\\n\", confusion_matrix(y_test, y_pred))\n",
    "print(\"\\nClassification Report:\\n\", classification_report(y_test, y_pred, target_names=[\"Safe\", \"Phishing\"]))"
   ]
  },
  {
   "cell_type": "code",
   "execution_count": 20,
   "id": "f6ab341e",
   "metadata": {},
   "outputs": [
    {
     "name": "stderr",
     "output_type": "stream",
     "text": [
      "[I 2025-06-15 18:38:42,514] A new study created in memory with name: no-name-9b656a86-1b04-4964-9578-2f5eb6933e83\n",
      "/var/folders/1h/14p077t95lbcy6x5tc6bqx3h0000gn/T/ipykernel_61543/268487825.py:8: FutureWarning: suggest_loguniform has been deprecated in v3.0.0. This feature will be removed in v6.0.0. See https://github.com/optuna/optuna/releases/tag/v3.0.0. Use suggest_float(..., log=True) instead.\n",
      "  c = trial.suggest_loguniform('C', 1e-3, 1e2)\n",
      "[I 2025-06-15 18:38:42,861] Trial 0 finished with value: 0.9522732165977968 and parameters: {'C': 1.8956110816685119, 'penalty': 'l2'}. Best is trial 0 with value: 0.9522732165977968.\n",
      "/var/folders/1h/14p077t95lbcy6x5tc6bqx3h0000gn/T/ipykernel_61543/268487825.py:8: FutureWarning: suggest_loguniform has been deprecated in v3.0.0. This feature will be removed in v6.0.0. See https://github.com/optuna/optuna/releases/tag/v3.0.0. Use suggest_float(..., log=True) instead.\n",
      "  c = trial.suggest_loguniform('C', 1e-3, 1e2)\n",
      "[I 2025-06-15 18:38:43,255] Trial 1 finished with value: 0.9546603207069362 and parameters: {'C': 3.7664140497808507, 'penalty': 'l2'}. Best is trial 1 with value: 0.9546603207069362.\n",
      "/var/folders/1h/14p077t95lbcy6x5tc6bqx3h0000gn/T/ipykernel_61543/268487825.py:8: FutureWarning: suggest_loguniform has been deprecated in v3.0.0. This feature will be removed in v6.0.0. See https://github.com/optuna/optuna/releases/tag/v3.0.0. Use suggest_float(..., log=True) instead.\n",
      "  c = trial.suggest_loguniform('C', 1e-3, 1e2)\n",
      "[I 2025-06-15 18:38:43,583] Trial 2 finished with value: 0.9517503862349773 and parameters: {'C': 1.6613436076848902, 'penalty': 'l2'}. Best is trial 1 with value: 0.9546603207069362.\n",
      "/var/folders/1h/14p077t95lbcy6x5tc6bqx3h0000gn/T/ipykernel_61543/268487825.py:8: FutureWarning: suggest_loguniform has been deprecated in v3.0.0. This feature will be removed in v6.0.0. See https://github.com/optuna/optuna/releases/tag/v3.0.0. Use suggest_float(..., log=True) instead.\n",
      "  c = trial.suggest_loguniform('C', 1e-3, 1e2)\n",
      "[I 2025-06-15 18:38:43,638] Trial 3 finished with value: 0.0 and parameters: {'C': 0.00226797842998768, 'penalty': 'l1'}. Best is trial 1 with value: 0.9546603207069362.\n",
      "/var/folders/1h/14p077t95lbcy6x5tc6bqx3h0000gn/T/ipykernel_61543/268487825.py:8: FutureWarning: suggest_loguniform has been deprecated in v3.0.0. This feature will be removed in v6.0.0. See https://github.com/optuna/optuna/releases/tag/v3.0.0. Use suggest_float(..., log=True) instead.\n",
      "  c = trial.suggest_loguniform('C', 1e-3, 1e2)\n",
      "[I 2025-06-15 18:38:43,690] Trial 4 finished with value: 0.0 and parameters: {'C': 0.0037062056448477817, 'penalty': 'l1'}. Best is trial 1 with value: 0.9546603207069362.\n",
      "/var/folders/1h/14p077t95lbcy6x5tc6bqx3h0000gn/T/ipykernel_61543/268487825.py:8: FutureWarning: suggest_loguniform has been deprecated in v3.0.0. This feature will be removed in v6.0.0. See https://github.com/optuna/optuna/releases/tag/v3.0.0. Use suggest_float(..., log=True) instead.\n",
      "  c = trial.suggest_loguniform('C', 1e-3, 1e2)\n",
      "[I 2025-06-15 18:38:43,790] Trial 5 finished with value: 0.8893575722078927 and parameters: {'C': 0.24746471789059302, 'penalty': 'l1'}. Best is trial 1 with value: 0.9546603207069362.\n",
      "/var/folders/1h/14p077t95lbcy6x5tc6bqx3h0000gn/T/ipykernel_61543/268487825.py:8: FutureWarning: suggest_loguniform has been deprecated in v3.0.0. This feature will be removed in v6.0.0. See https://github.com/optuna/optuna/releases/tag/v3.0.0. Use suggest_float(..., log=True) instead.\n",
      "  c = trial.suggest_loguniform('C', 1e-3, 1e2)\n",
      "[I 2025-06-15 18:38:43,891] Trial 6 finished with value: 0.6175479583746757 and parameters: {'C': 0.016446538684665307, 'penalty': 'l2'}. Best is trial 1 with value: 0.9546603207069362.\n",
      "/var/folders/1h/14p077t95lbcy6x5tc6bqx3h0000gn/T/ipykernel_61543/268487825.py:8: FutureWarning: suggest_loguniform has been deprecated in v3.0.0. This feature will be removed in v6.0.0. See https://github.com/optuna/optuna/releases/tag/v3.0.0. Use suggest_float(..., log=True) instead.\n",
      "  c = trial.suggest_loguniform('C', 1e-3, 1e2)\n",
      "[I 2025-06-15 18:38:43,982] Trial 7 finished with value: 0.7677659604261073 and parameters: {'C': 0.07536973238817832, 'penalty': 'l1'}. Best is trial 1 with value: 0.9546603207069362.\n",
      "/var/folders/1h/14p077t95lbcy6x5tc6bqx3h0000gn/T/ipykernel_61543/268487825.py:8: FutureWarning: suggest_loguniform has been deprecated in v3.0.0. This feature will be removed in v6.0.0. See https://github.com/optuna/optuna/releases/tag/v3.0.0. Use suggest_float(..., log=True) instead.\n",
      "  c = trial.suggest_loguniform('C', 1e-3, 1e2)\n",
      "[I 2025-06-15 18:38:44,639] Trial 8 finished with value: 0.954537490745072 and parameters: {'C': 21.86429798936676, 'penalty': 'l2'}. Best is trial 1 with value: 0.9546603207069362.\n",
      "/var/folders/1h/14p077t95lbcy6x5tc6bqx3h0000gn/T/ipykernel_61543/268487825.py:8: FutureWarning: suggest_loguniform has been deprecated in v3.0.0. This feature will be removed in v6.0.0. See https://github.com/optuna/optuna/releases/tag/v3.0.0. Use suggest_float(..., log=True) instead.\n",
      "  c = trial.suggest_loguniform('C', 1e-3, 1e2)\n",
      "[I 2025-06-15 18:38:45,059] Trial 9 finished with value: 0.9443927023231482 and parameters: {'C': 68.0644209685537, 'penalty': 'l1'}. Best is trial 1 with value: 0.9546603207069362.\n",
      "/var/folders/1h/14p077t95lbcy6x5tc6bqx3h0000gn/T/ipykernel_61543/268487825.py:8: FutureWarning: suggest_loguniform has been deprecated in v3.0.0. This feature will be removed in v6.0.0. See https://github.com/optuna/optuna/releases/tag/v3.0.0. Use suggest_float(..., log=True) instead.\n",
      "  c = trial.suggest_loguniform('C', 1e-3, 1e2)\n",
      "[I 2025-06-15 18:38:45,499] Trial 10 finished with value: 0.9549444241854183 and parameters: {'C': 5.098006365535251, 'penalty': 'l2'}. Best is trial 10 with value: 0.9549444241854183.\n",
      "/var/folders/1h/14p077t95lbcy6x5tc6bqx3h0000gn/T/ipykernel_61543/268487825.py:8: FutureWarning: suggest_loguniform has been deprecated in v3.0.0. This feature will be removed in v6.0.0. See https://github.com/optuna/optuna/releases/tag/v3.0.0. Use suggest_float(..., log=True) instead.\n",
      "  c = trial.suggest_loguniform('C', 1e-3, 1e2)\n",
      "[I 2025-06-15 18:38:45,985] Trial 11 finished with value: 0.9551042910401253 and parameters: {'C': 6.55306160448068, 'penalty': 'l2'}. Best is trial 11 with value: 0.9551042910401253.\n",
      "/var/folders/1h/14p077t95lbcy6x5tc6bqx3h0000gn/T/ipykernel_61543/268487825.py:8: FutureWarning: suggest_loguniform has been deprecated in v3.0.0. This feature will be removed in v6.0.0. See https://github.com/optuna/optuna/releases/tag/v3.0.0. Use suggest_float(..., log=True) instead.\n",
      "  c = trial.suggest_loguniform('C', 1e-3, 1e2)\n",
      "[I 2025-06-15 18:38:46,526] Trial 12 finished with value: 0.9545407942806219 and parameters: {'C': 9.220371925847859, 'penalty': 'l2'}. Best is trial 11 with value: 0.9551042910401253.\n",
      "/var/folders/1h/14p077t95lbcy6x5tc6bqx3h0000gn/T/ipykernel_61543/268487825.py:8: FutureWarning: suggest_loguniform has been deprecated in v3.0.0. This feature will be removed in v6.0.0. See https://github.com/optuna/optuna/releases/tag/v3.0.0. Use suggest_float(..., log=True) instead.\n",
      "  c = trial.suggest_loguniform('C', 1e-3, 1e2)\n",
      "[I 2025-06-15 18:38:47,364] Trial 13 finished with value: 0.9526314061044657 and parameters: {'C': 66.17384718087303, 'penalty': 'l2'}. Best is trial 11 with value: 0.9551042910401253.\n",
      "/var/folders/1h/14p077t95lbcy6x5tc6bqx3h0000gn/T/ipykernel_61543/268487825.py:8: FutureWarning: suggest_loguniform has been deprecated in v3.0.0. This feature will be removed in v6.0.0. See https://github.com/optuna/optuna/releases/tag/v3.0.0. Use suggest_float(..., log=True) instead.\n",
      "  c = trial.suggest_loguniform('C', 1e-3, 1e2)\n",
      "[I 2025-06-15 18:38:47,620] Trial 14 finished with value: 0.9454874224270665 and parameters: {'C': 0.7149317823955501, 'penalty': 'l2'}. Best is trial 11 with value: 0.9551042910401253.\n",
      "/var/folders/1h/14p077t95lbcy6x5tc6bqx3h0000gn/T/ipykernel_61543/268487825.py:8: FutureWarning: suggest_loguniform has been deprecated in v3.0.0. This feature will be removed in v6.0.0. See https://github.com/optuna/optuna/releases/tag/v3.0.0. Use suggest_float(..., log=True) instead.\n",
      "  c = trial.suggest_loguniform('C', 1e-3, 1e2)\n",
      "[I 2025-06-15 18:38:48,075] Trial 15 finished with value: 0.9547037653848425 and parameters: {'C': 8.762411693879276, 'penalty': 'l2'}. Best is trial 11 with value: 0.9551042910401253.\n",
      "/var/folders/1h/14p077t95lbcy6x5tc6bqx3h0000gn/T/ipykernel_61543/268487825.py:8: FutureWarning: suggest_loguniform has been deprecated in v3.0.0. This feature will be removed in v6.0.0. See https://github.com/optuna/optuna/releases/tag/v3.0.0. Use suggest_float(..., log=True) instead.\n",
      "  c = trial.suggest_loguniform('C', 1e-3, 1e2)\n",
      "[I 2025-06-15 18:38:48,616] Trial 16 finished with value: 0.9548896677854808 and parameters: {'C': 11.47947018653761, 'penalty': 'l2'}. Best is trial 11 with value: 0.9551042910401253.\n",
      "/var/folders/1h/14p077t95lbcy6x5tc6bqx3h0000gn/T/ipykernel_61543/268487825.py:8: FutureWarning: suggest_loguniform has been deprecated in v3.0.0. This feature will be removed in v6.0.0. See https://github.com/optuna/optuna/releases/tag/v3.0.0. Use suggest_float(..., log=True) instead.\n",
      "  c = trial.suggest_loguniform('C', 1e-3, 1e2)\n",
      "[I 2025-06-15 18:38:48,788] Trial 17 finished with value: 0.9262458597511714 and parameters: {'C': 0.2109693804356528, 'penalty': 'l2'}. Best is trial 11 with value: 0.9551042910401253.\n",
      "/var/folders/1h/14p077t95lbcy6x5tc6bqx3h0000gn/T/ipykernel_61543/268487825.py:8: FutureWarning: suggest_loguniform has been deprecated in v3.0.0. This feature will be removed in v6.0.0. See https://github.com/optuna/optuna/releases/tag/v3.0.0. Use suggest_float(..., log=True) instead.\n",
      "  c = trial.suggest_loguniform('C', 1e-3, 1e2)\n",
      "[I 2025-06-15 18:38:49,139] Trial 18 finished with value: 0.953383419760052 and parameters: {'C': 2.864606467424391, 'penalty': 'l2'}. Best is trial 11 with value: 0.9551042910401253.\n",
      "/var/folders/1h/14p077t95lbcy6x5tc6bqx3h0000gn/T/ipykernel_61543/268487825.py:8: FutureWarning: suggest_loguniform has been deprecated in v3.0.0. This feature will be removed in v6.0.0. See https://github.com/optuna/optuna/releases/tag/v3.0.0. Use suggest_float(..., log=True) instead.\n",
      "  c = trial.suggest_loguniform('C', 1e-3, 1e2)\n",
      "[I 2025-06-15 18:38:49,396] Trial 19 finished with value: 0.9444584160797547 and parameters: {'C': 0.6503371680230816, 'penalty': 'l2'}. Best is trial 11 with value: 0.9551042910401253.\n"
     ]
    },
    {
     "name": "stdout",
     "output_type": "stream",
     "text": [
      "Best params: {'C': 6.55306160448068, 'penalty': 'l2'}\n"
     ]
    }
   ],
   "source": [
    "import optuna\n",
    "from sklearn.linear_model import LogisticRegression\n",
    "from sklearn.metrics import f1_score\n",
    "from sklearn.model_selection import cross_val_score\n",
    "\n",
    "def objective(trial):\n",
    "    # Suggest hyperparameters\n",
    "    c = trial.suggest_loguniform('C', 1e-3, 1e2)\n",
    "    penalty = trial.suggest_categorical('penalty', ['l1', 'l2'])\n",
    "    solver = 'liblinear' if penalty == 'l1' else 'lbfgs'\n",
    "\n",
    "    # Create model\n",
    "    model = LogisticRegression(C=c, penalty=penalty, solver=solver, max_iter=1000)\n",
    "\n",
    "    # Cross-validation F1 score\n",
    "    score = cross_val_score(model, X_train, y_train, scoring='f1', cv=3).mean()\n",
    "    return score\n",
    "\n",
    "# Run optimization\n",
    "study = optuna.create_study(direction='maximize')\n",
    "study.optimize(objective, n_trials=20)\n",
    "\n",
    "# Best params\n",
    "print(\"Best params:\", study.best_params)\n"
   ]
  },
  {
   "cell_type": "code",
   "execution_count": 21,
   "id": "48e0ac9e",
   "metadata": {},
   "outputs": [
    {
     "name": "stdout",
     "output_type": "stream",
     "text": [
      "Confusion Matrix:\n",
      " [[2114   95]\n",
      " [  34 1484]]\n",
      "\n",
      "Classification Report:\n",
      "               precision    recall  f1-score   support\n",
      "\n",
      "        Safe       0.98      0.96      0.97      2209\n",
      "    Phishing       0.94      0.98      0.96      1518\n",
      "\n",
      "    accuracy                           0.97      3727\n",
      "   macro avg       0.96      0.97      0.96      3727\n",
      "weighted avg       0.97      0.97      0.97      3727\n",
      "\n"
     ]
    }
   ],
   "source": [
    "best_params = study.best_params\n",
    "final_model = LogisticRegression(**best_params, max_iter=1000)\n",
    "final_model.fit(X_train, y_train)\n",
    "final_preds = final_model.predict(X_test)\n",
    "\n",
    "print(\"Confusion Matrix:\\n\", confusion_matrix(y_test, final_preds))\n",
    "print(\"\\nClassification Report:\\n\", classification_report(y_test, final_preds, target_names=[\"Safe\", \"Phishing\"]))\n"
   ]
  },
  {
   "cell_type": "markdown",
   "id": "453692af",
   "metadata": {},
   "source": [
    "- RECALL MATTERS MOST: \n",
    "- In phishing detection, missing a phishing email (false negative) is much worse than wrongly flagging a legit email (false positive)."
   ]
  },
  {
   "cell_type": "markdown",
   "id": "30d80bf8",
   "metadata": {},
   "source": [
    "# Testing"
   ]
  },
  {
   "cell_type": "code",
   "execution_count": 23,
   "id": "e12b4b27",
   "metadata": {},
   "outputs": [
    {
     "name": "stdout",
     "output_type": "stream",
     "text": [
      "\n",
      "Email:\n",
      "Your PayPal account has been suspended. Click the link below to restore access immediately.\n",
      "→ Prediction: Phishing (Confidence: 0.97)\n",
      "\n",
      "Email:\n",
      "Hi John, just confirming our lunch meeting next Tuesday at 1pm. Let me know if that still works.\n",
      "→ Prediction: Safe (Confidence: 0.97)\n",
      "\n",
      "Email:\n",
      "This is IT Support. Please upload your password file to the link below so we can verify access before the upgrade.\n",
      "→ Prediction: Safe (Confidence: 0.77)\n",
      "\n",
      "Email:\n",
      "Reminder: Your HR policy document is due for review. Please acknowledge by Friday.\n",
      "→ Prediction: Safe (Confidence: 0.9)\n",
      "\n",
      "Email:\n",
      "You’ve won a £1000 Amazon voucher! Click here to claim your reward before it expires!\n",
      "→ Prediction: Phishing (Confidence: 0.93)\n",
      "\n",
      "Email:\n",
      "Team, the weekly report is attached. Let's review it briefly before the 10:30 meeting.\n",
      "→ Prediction: Safe (Confidence: 0.96)\n",
      "\n",
      "Email:\n",
      "Please update your payroll info to avoid delays. Use the secure form here: update-payroll-data.co\n",
      "→ Prediction: Phishing (Confidence: 0.58)\n",
      "\n",
      "Email:\n",
      "Good morning, attached is the updated invoice for March. Let me know if you have any questions.\n",
      "→ Prediction: Safe (Confidence: 0.97)\n",
      "\n",
      "Email:\n",
      "Final warning: Your email access will be revoked. Click now to confirm your credentials.\n",
      "→ Prediction: Phishing (Confidence: 0.85)\n",
      "\n",
      "Email:\n",
      "Dear user, due to unusual activity, we've restricted your access. Use the form to reinstate your email privileges.\n",
      "→ Prediction: Safe (Confidence: 0.63)\n"
     ]
    }
   ],
   "source": [
    "# Sample emails\n",
    "sample_emails = [\n",
    "    # 1 - Obvious phishing\n",
    "    \"Your PayPal account has been suspended. Click the link below to restore access immediately.\",\n",
    "    \n",
    "    # 2 - Safe\n",
    "    \"Hi John, just confirming our lunch meeting next Tuesday at 1pm. Let me know if that still works.\",\n",
    "    \n",
    "    # 3 - Subtle phishing\n",
    "    \"This is IT Support. Please upload your password file to the link below so we can verify access before the upgrade.\",\n",
    "    \n",
    "    # 4 - Safe\n",
    "    \"Reminder: Your HR policy document is due for review. Please acknowledge by Friday.\",\n",
    "    \n",
    "    # 5 - Obvious phishing\n",
    "    \"You’ve won a £1000 Amazon voucher! Click here to claim your reward before it expires!\",\n",
    "    \n",
    "    # 6 - Safe\n",
    "    \"Team, the weekly report is attached. Let's review it briefly before the 10:30 meeting.\",\n",
    "    \n",
    "    # 7 - Subtle phishing\n",
    "    \"Please update your payroll info to avoid delays. Use the secure form here: update-payroll-data.co\",\n",
    "    \n",
    "    # 8 - Safe\n",
    "    \"Good morning, attached is the updated invoice for March. Let me know if you have any questions.\",\n",
    "    \n",
    "    # 9 - Obvious phishing\n",
    "    \"Final warning: Your email access will be revoked. Click now to confirm your credentials.\",\n",
    "    \n",
    "    # 10 - Subtle phishing\n",
    "    \"Dear user, due to unusual activity, we've restricted your access. Use the form to reinstate your email privileges.\"\n",
    "]\n",
    "\n",
    "# Clean them using the same clean_text() function\n",
    "sample_cleaned = [clean_text(email) for email in sample_emails]\n",
    "\n",
    "# Vectorize using the existing TF-IDF model\n",
    "sample_vectors = vectorizer.transform(sample_cleaned)\n",
    "\n",
    "# Predict using the trained logistic regression model\n",
    "sample_preds = model.predict(sample_vectors)\n",
    "sample_probs = model.predict_proba(sample_vectors)\n",
    "\n",
    "# Display results\n",
    "for text, pred, prob in zip(sample_emails, sample_preds, sample_probs):\n",
    "    label = \"Phishing\" if pred == 1 else \"Safe\"\n",
    "    confidence = round(max(prob), 2)\n",
    "    print(f\"\\nEmail:\\n{text}\\n→ Prediction: {label} (Confidence: {confidence})\")\n"
   ]
  },
  {
   "cell_type": "code",
   "execution_count": null,
   "id": "e556c64d",
   "metadata": {},
   "outputs": [],
   "source": []
  }
 ],
 "metadata": {
  "kernelspec": {
   "display_name": "base",
   "language": "python",
   "name": "python3"
  },
  "language_info": {
   "codemirror_mode": {
    "name": "ipython",
    "version": 3
   },
   "file_extension": ".py",
   "mimetype": "text/x-python",
   "name": "python",
   "nbconvert_exporter": "python",
   "pygments_lexer": "ipython3",
   "version": "3.10.14"
  }
 },
 "nbformat": 4,
 "nbformat_minor": 5
}
